{
  "nbformat": 4,
  "nbformat_minor": 0,
  "metadata": {
    "colab": {
      "provenance": [],
      "authorship_tag": "ABX9TyNzxqO5r/frpY7ukK9MlTsB",
      "include_colab_link": true
    },
    "kernelspec": {
      "name": "python3",
      "display_name": "Python 3"
    },
    "language_info": {
      "name": "python"
    }
  },
  "cells": [
    {
      "cell_type": "markdown",
      "metadata": {
        "id": "view-in-github",
        "colab_type": "text"
      },
      "source": [
        "<a href=\"https://colab.research.google.com/github/electrojam/Curso-de-Clustering-con-Python-y-scikit-learn/blob/main/primer_clustering.ipynb\" target=\"_parent\"><img src=\"https://colab.research.google.com/assets/colab-badge.svg\" alt=\"Open In Colab\"/></a>"
      ]
    },
    {
      "cell_type": "markdown",
      "source": [
        "# Primer Clustering con Scikit-learn"
      ],
      "metadata": {
        "id": "zIslJHzbPmaF"
      }
    },
    {
      "cell_type": "markdown",
      "source": [
        "Curso de Clustering con Python y scikit-learn"
      ],
      "metadata": {
        "id": "sTOj34CpPvMl"
      }
    },
    {
      "cell_type": "markdown",
      "source": [
        "## Importar librerías y carga de datos de prueba"
      ],
      "metadata": {
        "id": "Qz8VkzZ1PuVD"
      }
    },
    {
      "cell_type": "code",
      "source": [
        "from sklearn.datasets import make_blobs\n",
        "import pandas as pd\n",
        "import matplotlib.pyplot as plt"
      ],
      "metadata": {
        "id": "63jWRTj5PqJF"
      },
      "execution_count": 1,
      "outputs": []
    },
    {
      "cell_type": "code",
      "source": [
        "# creamos dos objetos con función con 100 ejemplos o data points, con 4 centros o clusters, número de features=2, desv standar del cluster\n",
        "x, y = make_blobs(n_samples=100, centers=4, n_features=2, cluster_std=[1, 1.5, 2, 2], random_state=7)"
      ],
      "metadata": {
        "id": "plowSF6mQAXV"
      },
      "execution_count": 2,
      "outputs": []
    },
    {
      "cell_type": "code",
      "source": [
        "# x se creó con dos features o dos columnas\n",
        "x"
      ],
      "metadata": {
        "colab": {
          "base_uri": "https://localhost:8080/"
        },
        "id": "sR73BT4fQ6_w",
        "outputId": "b15f6b9e-66fa-46c5-84fa-312ac946b0f7"
      },
      "execution_count": 13,
      "outputs": [
        {
          "output_type": "execute_result",
          "data": {
            "text/plain": [
              "array([[ -3.38426057,   5.22173974],\n",
              "       [ -1.83623836,  -7.73538367],\n",
              "       [ -7.45617621,   6.19887436],\n",
              "       [ -1.78504307,   1.60974874],\n",
              "       [-10.1249098 ,   6.1338052 ],\n",
              "       [  1.0146433 ,   4.0453507 ],\n",
              "       [ -0.70092735,  -6.98196818],\n",
              "       [  8.99757441,  -2.30228718],\n",
              "       [ -7.9192539 ,   5.72225675],\n",
              "       [  1.9445622 ,  -7.43742299],\n",
              "       [ -0.93442649,  -7.78820426],\n",
              "       [ 11.48819121,   1.33719026],\n",
              "       [ -2.86067816, -11.24623446],\n",
              "       [ -7.90577233,   4.84553865],\n",
              "       [ -2.24228315,   4.38550238],\n",
              "       [  0.56928691, -10.0571088 ],\n",
              "       [  0.6237701 ,  -6.12033956],\n",
              "       [  8.32594634,   0.04535295],\n",
              "       [ -2.11937574, -10.1833945 ],\n",
              "       [ -6.70767333,   5.26896209],\n",
              "       [ -2.52855036,   5.03085908],\n",
              "       [ -8.19937429,   4.07185131],\n",
              "       [ -8.86097416,   7.62744807],\n",
              "       [  0.25552915, -12.26658908],\n",
              "       [  7.09274235,   1.13571881],\n",
              "       [ -8.51922024,   4.14769715],\n",
              "       [  9.58876813,  -2.81738008],\n",
              "       [  9.01302463,  -0.87700276],\n",
              "       [  2.43497366,  -6.59786336],\n",
              "       [ -1.25017865,   4.35580836],\n",
              "       [ -3.34438441,  -6.52894746],\n",
              "       [ -0.15955326,  -6.65074692],\n",
              "       [ -1.06884281,   6.62666284],\n",
              "       [ -1.61175122,  -8.17436194],\n",
              "       [  2.18722279, -10.1737727 ],\n",
              "       [ -8.37240023,   5.85095358],\n",
              "       [  9.60427972,  -0.08821978],\n",
              "       [ -8.60621141,   5.2888995 ],\n",
              "       [ -0.60856145,   3.08398657],\n",
              "       [ -8.20442258,   5.07377123],\n",
              "       [ -3.09016602,  -7.04152693],\n",
              "       [ -1.38123132,   7.0186095 ],\n",
              "       [ -0.73385405,   5.57184343],\n",
              "       [ 12.99525034,  -0.14633618],\n",
              "       [  2.15810511,   5.77286255],\n",
              "       [  9.73610009,  -1.90312369],\n",
              "       [ -8.87906207,   3.31006074],\n",
              "       [ -7.63310097,   5.41838944],\n",
              "       [ 11.67168684,   1.90168239],\n",
              "       [ -9.67805406,   7.06035147],\n",
              "       [  7.40382045,  -2.89493453],\n",
              "       [  3.74252062, -11.55352462],\n",
              "       [  5.65583404,   1.51657898],\n",
              "       [ -2.71731016,  -7.09666856],\n",
              "       [ -3.02220325,   2.89427834],\n",
              "       [ -6.56181535,   5.83567769],\n",
              "       [ -0.40869769,   5.48424704],\n",
              "       [ -4.08286174,  -4.43138623],\n",
              "       [ -0.50231258,   3.61509515],\n",
              "       [ -0.64449683,   2.30462107],\n",
              "       [ -1.68210598,   2.69933042],\n",
              "       [ -1.85814896,  -8.82152863],\n",
              "       [ -1.80695006,   3.13451827],\n",
              "       [ 10.53704107,   1.49429741],\n",
              "       [ -8.09071236,   7.8459709 ],\n",
              "       [  8.98382251,   1.36953411],\n",
              "       [ -8.4747246 ,   3.84365154],\n",
              "       [  9.17207761,   2.16450563],\n",
              "       [  8.26357965,   4.26507189],\n",
              "       [ -1.52585634,   3.58314883],\n",
              "       [ -9.09926319,   5.42682758],\n",
              "       [ 10.83401591,   1.03116336],\n",
              "       [ -6.82313452,   5.75271138],\n",
              "       [ -8.71658329,   4.14513443],\n",
              "       [  8.13768385,   1.76216825],\n",
              "       [  8.49808274,  -1.47400737],\n",
              "       [ 11.74366784,   4.1986779 ],\n",
              "       [  8.51784557,   1.18936152],\n",
              "       [ -1.37077276,  -7.39303673],\n",
              "       [  1.06255408,   5.47343085],\n",
              "       [  1.02316241,   4.15020411],\n",
              "       [ -1.37397855,   6.25893244],\n",
              "       [ -7.42443766,   5.18190153],\n",
              "       [ -3.79908848,  -7.28615161],\n",
              "       [  8.77901728,  -0.92192787],\n",
              "       [ -0.49422339,  -6.28301921],\n",
              "       [ 12.41323255,   1.08360538],\n",
              "       [-10.18217342,   3.79527719],\n",
              "       [-10.53824902,   4.93621651],\n",
              "       [ -1.74499091,   3.76141358],\n",
              "       [  1.90011281,  -8.26484561],\n",
              "       [ -0.24975682,   5.81083201],\n",
              "       [ -7.96853484,   5.33701943],\n",
              "       [  0.97508467,  -6.33439636],\n",
              "       [  9.40816251,   2.33252103],\n",
              "       [  7.07275521,  -0.25993704],\n",
              "       [ -2.6268734 ,  -7.22856996],\n",
              "       [ -1.52109856,   1.80228428],\n",
              "       [ -9.21638774,   6.67084598],\n",
              "       [ -1.68138223,   6.41463135]])"
            ]
          },
          "metadata": {},
          "execution_count": 13
        }
      ]
    },
    {
      "cell_type": "code",
      "source": [
        "# y cuenta con 4 centroides de 0 a 3\n",
        "y"
      ],
      "metadata": {
        "colab": {
          "base_uri": "https://localhost:8080/"
        },
        "id": "TT_ocqheQ77F",
        "outputId": "1a998cfd-7d71-4956-af6c-213160573058"
      },
      "execution_count": 14,
      "outputs": [
        {
          "output_type": "execute_result",
          "data": {
            "text/plain": [
              "array([1, 3, 0, 1, 0, 1, 3, 2, 0, 3, 3, 2, 3, 0, 1, 3, 3, 2, 3, 0, 1, 0,\n",
              "       0, 3, 2, 0, 2, 2, 3, 1, 3, 3, 1, 3, 3, 0, 2, 0, 1, 0, 3, 1, 1, 2,\n",
              "       1, 2, 0, 0, 2, 0, 2, 3, 2, 3, 1, 0, 1, 3, 1, 1, 1, 3, 1, 2, 0, 2,\n",
              "       0, 2, 2, 1, 0, 2, 0, 0, 2, 2, 2, 2, 3, 1, 1, 1, 0, 3, 2, 3, 2, 0,\n",
              "       0, 1, 3, 1, 0, 3, 2, 2, 3, 1, 0, 1])"
            ]
          },
          "metadata": {},
          "execution_count": 14
        }
      ]
    },
    {
      "cell_type": "code",
      "source": [
        "# creamos un data frame\n",
        "df_blobs = pd.DataFrame({\n",
        "    'x1': x[:,0],\n",
        "    'x2': x[:,1],\n",
        "    'y': y\n",
        "})"
      ],
      "metadata": {
        "id": "nyUgEfh1RKtm"
      },
      "execution_count": 15,
      "outputs": []
    },
    {
      "cell_type": "code",
      "source": [
        "# df_blobs solo se utilizará para comprobar los datos, más no para ejecutar el cluster\n",
        "df_blobs"
      ],
      "metadata": {
        "colab": {
          "base_uri": "https://localhost:8080/",
          "height": 424
        },
        "id": "_6GTpTA4R4lf",
        "outputId": "073a68e3-7856-4e47-9159-f89d195f3106"
      },
      "execution_count": 17,
      "outputs": [
        {
          "output_type": "execute_result",
          "data": {
            "text/plain": [
              "           x1        x2  y\n",
              "0   -3.384261  5.221740  1\n",
              "1   -1.836238 -7.735384  3\n",
              "2   -7.456176  6.198874  0\n",
              "3   -1.785043  1.609749  1\n",
              "4  -10.124910  6.133805  0\n",
              "..        ...       ... ..\n",
              "95   7.072755 -0.259937  2\n",
              "96  -2.626873 -7.228570  3\n",
              "97  -1.521099  1.802284  1\n",
              "98  -9.216388  6.670846  0\n",
              "99  -1.681382  6.414631  1\n",
              "\n",
              "[100 rows x 3 columns]"
            ],
            "text/html": [
              "\n",
              "  <div id=\"df-bccb997a-9974-4cfe-8d3f-cfedc1de0001\" class=\"colab-df-container\">\n",
              "    <div>\n",
              "<style scoped>\n",
              "    .dataframe tbody tr th:only-of-type {\n",
              "        vertical-align: middle;\n",
              "    }\n",
              "\n",
              "    .dataframe tbody tr th {\n",
              "        vertical-align: top;\n",
              "    }\n",
              "\n",
              "    .dataframe thead th {\n",
              "        text-align: right;\n",
              "    }\n",
              "</style>\n",
              "<table border=\"1\" class=\"dataframe\">\n",
              "  <thead>\n",
              "    <tr style=\"text-align: right;\">\n",
              "      <th></th>\n",
              "      <th>x1</th>\n",
              "      <th>x2</th>\n",
              "      <th>y</th>\n",
              "    </tr>\n",
              "  </thead>\n",
              "  <tbody>\n",
              "    <tr>\n",
              "      <th>0</th>\n",
              "      <td>-3.384261</td>\n",
              "      <td>5.221740</td>\n",
              "      <td>1</td>\n",
              "    </tr>\n",
              "    <tr>\n",
              "      <th>1</th>\n",
              "      <td>-1.836238</td>\n",
              "      <td>-7.735384</td>\n",
              "      <td>3</td>\n",
              "    </tr>\n",
              "    <tr>\n",
              "      <th>2</th>\n",
              "      <td>-7.456176</td>\n",
              "      <td>6.198874</td>\n",
              "      <td>0</td>\n",
              "    </tr>\n",
              "    <tr>\n",
              "      <th>3</th>\n",
              "      <td>-1.785043</td>\n",
              "      <td>1.609749</td>\n",
              "      <td>1</td>\n",
              "    </tr>\n",
              "    <tr>\n",
              "      <th>4</th>\n",
              "      <td>-10.124910</td>\n",
              "      <td>6.133805</td>\n",
              "      <td>0</td>\n",
              "    </tr>\n",
              "    <tr>\n",
              "      <th>...</th>\n",
              "      <td>...</td>\n",
              "      <td>...</td>\n",
              "      <td>...</td>\n",
              "    </tr>\n",
              "    <tr>\n",
              "      <th>95</th>\n",
              "      <td>7.072755</td>\n",
              "      <td>-0.259937</td>\n",
              "      <td>2</td>\n",
              "    </tr>\n",
              "    <tr>\n",
              "      <th>96</th>\n",
              "      <td>-2.626873</td>\n",
              "      <td>-7.228570</td>\n",
              "      <td>3</td>\n",
              "    </tr>\n",
              "    <tr>\n",
              "      <th>97</th>\n",
              "      <td>-1.521099</td>\n",
              "      <td>1.802284</td>\n",
              "      <td>1</td>\n",
              "    </tr>\n",
              "    <tr>\n",
              "      <th>98</th>\n",
              "      <td>-9.216388</td>\n",
              "      <td>6.670846</td>\n",
              "      <td>0</td>\n",
              "    </tr>\n",
              "    <tr>\n",
              "      <th>99</th>\n",
              "      <td>-1.681382</td>\n",
              "      <td>6.414631</td>\n",
              "      <td>1</td>\n",
              "    </tr>\n",
              "  </tbody>\n",
              "</table>\n",
              "<p>100 rows × 3 columns</p>\n",
              "</div>\n",
              "    <div class=\"colab-df-buttons\">\n",
              "\n",
              "  <div class=\"colab-df-container\">\n",
              "    <button class=\"colab-df-convert\" onclick=\"convertToInteractive('df-bccb997a-9974-4cfe-8d3f-cfedc1de0001')\"\n",
              "            title=\"Convert this dataframe to an interactive table.\"\n",
              "            style=\"display:none;\">\n",
              "\n",
              "  <svg xmlns=\"http://www.w3.org/2000/svg\" height=\"24px\" viewBox=\"0 -960 960 960\">\n",
              "    <path d=\"M120-120v-720h720v720H120Zm60-500h600v-160H180v160Zm220 220h160v-160H400v160Zm0 220h160v-160H400v160ZM180-400h160v-160H180v160Zm440 0h160v-160H620v160ZM180-180h160v-160H180v160Zm440 0h160v-160H620v160Z\"/>\n",
              "  </svg>\n",
              "    </button>\n",
              "\n",
              "  <style>\n",
              "    .colab-df-container {\n",
              "      display:flex;\n",
              "      gap: 12px;\n",
              "    }\n",
              "\n",
              "    .colab-df-convert {\n",
              "      background-color: #E8F0FE;\n",
              "      border: none;\n",
              "      border-radius: 50%;\n",
              "      cursor: pointer;\n",
              "      display: none;\n",
              "      fill: #1967D2;\n",
              "      height: 32px;\n",
              "      padding: 0 0 0 0;\n",
              "      width: 32px;\n",
              "    }\n",
              "\n",
              "    .colab-df-convert:hover {\n",
              "      background-color: #E2EBFA;\n",
              "      box-shadow: 0px 1px 2px rgba(60, 64, 67, 0.3), 0px 1px 3px 1px rgba(60, 64, 67, 0.15);\n",
              "      fill: #174EA6;\n",
              "    }\n",
              "\n",
              "    .colab-df-buttons div {\n",
              "      margin-bottom: 4px;\n",
              "    }\n",
              "\n",
              "    [theme=dark] .colab-df-convert {\n",
              "      background-color: #3B4455;\n",
              "      fill: #D2E3FC;\n",
              "    }\n",
              "\n",
              "    [theme=dark] .colab-df-convert:hover {\n",
              "      background-color: #434B5C;\n",
              "      box-shadow: 0px 1px 3px 1px rgba(0, 0, 0, 0.15);\n",
              "      filter: drop-shadow(0px 1px 2px rgba(0, 0, 0, 0.3));\n",
              "      fill: #FFFFFF;\n",
              "    }\n",
              "  </style>\n",
              "\n",
              "    <script>\n",
              "      const buttonEl =\n",
              "        document.querySelector('#df-bccb997a-9974-4cfe-8d3f-cfedc1de0001 button.colab-df-convert');\n",
              "      buttonEl.style.display =\n",
              "        google.colab.kernel.accessAllowed ? 'block' : 'none';\n",
              "\n",
              "      async function convertToInteractive(key) {\n",
              "        const element = document.querySelector('#df-bccb997a-9974-4cfe-8d3f-cfedc1de0001');\n",
              "        const dataTable =\n",
              "          await google.colab.kernel.invokeFunction('convertToInteractive',\n",
              "                                                    [key], {});\n",
              "        if (!dataTable) return;\n",
              "\n",
              "        const docLinkHtml = 'Like what you see? Visit the ' +\n",
              "          '<a target=\"_blank\" href=https://colab.research.google.com/notebooks/data_table.ipynb>data table notebook</a>'\n",
              "          + ' to learn more about interactive tables.';\n",
              "        element.innerHTML = '';\n",
              "        dataTable['output_type'] = 'display_data';\n",
              "        await google.colab.output.renderOutput(dataTable, element);\n",
              "        const docLink = document.createElement('div');\n",
              "        docLink.innerHTML = docLinkHtml;\n",
              "        element.appendChild(docLink);\n",
              "      }\n",
              "    </script>\n",
              "  </div>\n",
              "\n",
              "\n",
              "<div id=\"df-fb027dcb-8549-49b8-b2cd-670c81cdaac0\">\n",
              "  <button class=\"colab-df-quickchart\" onclick=\"quickchart('df-fb027dcb-8549-49b8-b2cd-670c81cdaac0')\"\n",
              "            title=\"Suggest charts\"\n",
              "            style=\"display:none;\">\n",
              "\n",
              "<svg xmlns=\"http://www.w3.org/2000/svg\" height=\"24px\"viewBox=\"0 0 24 24\"\n",
              "     width=\"24px\">\n",
              "    <g>\n",
              "        <path d=\"M19 3H5c-1.1 0-2 .9-2 2v14c0 1.1.9 2 2 2h14c1.1 0 2-.9 2-2V5c0-1.1-.9-2-2-2zM9 17H7v-7h2v7zm4 0h-2V7h2v10zm4 0h-2v-4h2v4z\"/>\n",
              "    </g>\n",
              "</svg>\n",
              "  </button>\n",
              "\n",
              "<style>\n",
              "  .colab-df-quickchart {\n",
              "      --bg-color: #E8F0FE;\n",
              "      --fill-color: #1967D2;\n",
              "      --hover-bg-color: #E2EBFA;\n",
              "      --hover-fill-color: #174EA6;\n",
              "      --disabled-fill-color: #AAA;\n",
              "      --disabled-bg-color: #DDD;\n",
              "  }\n",
              "\n",
              "  [theme=dark] .colab-df-quickchart {\n",
              "      --bg-color: #3B4455;\n",
              "      --fill-color: #D2E3FC;\n",
              "      --hover-bg-color: #434B5C;\n",
              "      --hover-fill-color: #FFFFFF;\n",
              "      --disabled-bg-color: #3B4455;\n",
              "      --disabled-fill-color: #666;\n",
              "  }\n",
              "\n",
              "  .colab-df-quickchart {\n",
              "    background-color: var(--bg-color);\n",
              "    border: none;\n",
              "    border-radius: 50%;\n",
              "    cursor: pointer;\n",
              "    display: none;\n",
              "    fill: var(--fill-color);\n",
              "    height: 32px;\n",
              "    padding: 0;\n",
              "    width: 32px;\n",
              "  }\n",
              "\n",
              "  .colab-df-quickchart:hover {\n",
              "    background-color: var(--hover-bg-color);\n",
              "    box-shadow: 0 1px 2px rgba(60, 64, 67, 0.3), 0 1px 3px 1px rgba(60, 64, 67, 0.15);\n",
              "    fill: var(--button-hover-fill-color);\n",
              "  }\n",
              "\n",
              "  .colab-df-quickchart-complete:disabled,\n",
              "  .colab-df-quickchart-complete:disabled:hover {\n",
              "    background-color: var(--disabled-bg-color);\n",
              "    fill: var(--disabled-fill-color);\n",
              "    box-shadow: none;\n",
              "  }\n",
              "\n",
              "  .colab-df-spinner {\n",
              "    border: 2px solid var(--fill-color);\n",
              "    border-color: transparent;\n",
              "    border-bottom-color: var(--fill-color);\n",
              "    animation:\n",
              "      spin 1s steps(1) infinite;\n",
              "  }\n",
              "\n",
              "  @keyframes spin {\n",
              "    0% {\n",
              "      border-color: transparent;\n",
              "      border-bottom-color: var(--fill-color);\n",
              "      border-left-color: var(--fill-color);\n",
              "    }\n",
              "    20% {\n",
              "      border-color: transparent;\n",
              "      border-left-color: var(--fill-color);\n",
              "      border-top-color: var(--fill-color);\n",
              "    }\n",
              "    30% {\n",
              "      border-color: transparent;\n",
              "      border-left-color: var(--fill-color);\n",
              "      border-top-color: var(--fill-color);\n",
              "      border-right-color: var(--fill-color);\n",
              "    }\n",
              "    40% {\n",
              "      border-color: transparent;\n",
              "      border-right-color: var(--fill-color);\n",
              "      border-top-color: var(--fill-color);\n",
              "    }\n",
              "    60% {\n",
              "      border-color: transparent;\n",
              "      border-right-color: var(--fill-color);\n",
              "    }\n",
              "    80% {\n",
              "      border-color: transparent;\n",
              "      border-right-color: var(--fill-color);\n",
              "      border-bottom-color: var(--fill-color);\n",
              "    }\n",
              "    90% {\n",
              "      border-color: transparent;\n",
              "      border-bottom-color: var(--fill-color);\n",
              "    }\n",
              "  }\n",
              "</style>\n",
              "\n",
              "  <script>\n",
              "    async function quickchart(key) {\n",
              "      const quickchartButtonEl =\n",
              "        document.querySelector('#' + key + ' button');\n",
              "      quickchartButtonEl.disabled = true;  // To prevent multiple clicks.\n",
              "      quickchartButtonEl.classList.add('colab-df-spinner');\n",
              "      try {\n",
              "        const charts = await google.colab.kernel.invokeFunction(\n",
              "            'suggestCharts', [key], {});\n",
              "      } catch (error) {\n",
              "        console.error('Error during call to suggestCharts:', error);\n",
              "      }\n",
              "      quickchartButtonEl.classList.remove('colab-df-spinner');\n",
              "      quickchartButtonEl.classList.add('colab-df-quickchart-complete');\n",
              "    }\n",
              "    (() => {\n",
              "      let quickchartButtonEl =\n",
              "        document.querySelector('#df-fb027dcb-8549-49b8-b2cd-670c81cdaac0 button');\n",
              "      quickchartButtonEl.style.display =\n",
              "        google.colab.kernel.accessAllowed ? 'block' : 'none';\n",
              "    })();\n",
              "  </script>\n",
              "</div>\n",
              "\n",
              "  <div id=\"id_858e22e9-7df7-4b5c-b4ce-74873ac72add\">\n",
              "    <style>\n",
              "      .colab-df-generate {\n",
              "        background-color: #E8F0FE;\n",
              "        border: none;\n",
              "        border-radius: 50%;\n",
              "        cursor: pointer;\n",
              "        display: none;\n",
              "        fill: #1967D2;\n",
              "        height: 32px;\n",
              "        padding: 0 0 0 0;\n",
              "        width: 32px;\n",
              "      }\n",
              "\n",
              "      .colab-df-generate:hover {\n",
              "        background-color: #E2EBFA;\n",
              "        box-shadow: 0px 1px 2px rgba(60, 64, 67, 0.3), 0px 1px 3px 1px rgba(60, 64, 67, 0.15);\n",
              "        fill: #174EA6;\n",
              "      }\n",
              "\n",
              "      [theme=dark] .colab-df-generate {\n",
              "        background-color: #3B4455;\n",
              "        fill: #D2E3FC;\n",
              "      }\n",
              "\n",
              "      [theme=dark] .colab-df-generate:hover {\n",
              "        background-color: #434B5C;\n",
              "        box-shadow: 0px 1px 3px 1px rgba(0, 0, 0, 0.15);\n",
              "        filter: drop-shadow(0px 1px 2px rgba(0, 0, 0, 0.3));\n",
              "        fill: #FFFFFF;\n",
              "      }\n",
              "    </style>\n",
              "    <button class=\"colab-df-generate\" onclick=\"generateWithVariable('df_blobs')\"\n",
              "            title=\"Generate code using this dataframe.\"\n",
              "            style=\"display:none;\">\n",
              "\n",
              "  <svg xmlns=\"http://www.w3.org/2000/svg\" height=\"24px\"viewBox=\"0 0 24 24\"\n",
              "       width=\"24px\">\n",
              "    <path d=\"M7,19H8.4L18.45,9,17,7.55,7,17.6ZM5,21V16.75L18.45,3.32a2,2,0,0,1,2.83,0l1.4,1.43a1.91,1.91,0,0,1,.58,1.4,1.91,1.91,0,0,1-.58,1.4L9.25,21ZM18.45,9,17,7.55Zm-12,3A5.31,5.31,0,0,0,4.9,8.1,5.31,5.31,0,0,0,1,6.5,5.31,5.31,0,0,0,4.9,4.9,5.31,5.31,0,0,0,6.5,1,5.31,5.31,0,0,0,8.1,4.9,5.31,5.31,0,0,0,12,6.5,5.46,5.46,0,0,0,6.5,12Z\"/>\n",
              "  </svg>\n",
              "    </button>\n",
              "    <script>\n",
              "      (() => {\n",
              "      const buttonEl =\n",
              "        document.querySelector('#id_858e22e9-7df7-4b5c-b4ce-74873ac72add button.colab-df-generate');\n",
              "      buttonEl.style.display =\n",
              "        google.colab.kernel.accessAllowed ? 'block' : 'none';\n",
              "\n",
              "      buttonEl.onclick = () => {\n",
              "        google.colab.notebook.generateWithVariable('df_blobs');\n",
              "      }\n",
              "      })();\n",
              "    </script>\n",
              "  </div>\n",
              "\n",
              "    </div>\n",
              "  </div>\n"
            ],
            "application/vnd.google.colaboratory.intrinsic+json": {
              "type": "dataframe",
              "variable_name": "df_blobs",
              "summary": "{\n  \"name\": \"df_blobs\",\n  \"rows\": 100,\n  \"fields\": [\n    {\n      \"column\": \"x1\",\n      \"properties\": {\n        \"dtype\": \"number\",\n        \"std\": 6.549547319084156,\n        \"min\": -10.538249015642032,\n        \"max\": 12.995250339252523,\n        \"num_unique_values\": 100,\n        \"samples\": [\n          -3.799088482045634,\n          -2.717310164759631,\n          -9.099263186487615\n        ],\n        \"semantic_type\": \"\",\n        \"description\": \"\"\n      }\n    },\n    {\n      \"column\": \"x2\",\n      \"properties\": {\n        \"dtype\": \"number\",\n        \"std\": 5.5461921998666455,\n        \"min\": -12.266589075820182,\n        \"max\": 7.845970897609993,\n        \"num_unique_values\": 100,\n        \"samples\": [\n          -7.286151614846131,\n          -7.096668561949988,\n          5.426827583606571\n        ],\n        \"semantic_type\": \"\",\n        \"description\": \"\"\n      }\n    },\n    {\n      \"column\": \"y\",\n      \"properties\": {\n        \"dtype\": \"number\",\n        \"std\": 1,\n        \"min\": 0,\n        \"max\": 3,\n        \"num_unique_values\": 4,\n        \"samples\": [\n          3,\n          2,\n          1\n        ],\n        \"semantic_type\": \"\",\n        \"description\": \"\"\n      }\n    }\n  ]\n}"
            }
          },
          "metadata": {},
          "execution_count": 17
        }
      ]
    },
    {
      "cell_type": "code",
      "source": [
        "# creamos función para graficar df, en 2d porque solo se tienen dos dimensiones (columnas) del df\n",
        "def plot_2d_clusters(x,y,ax):  # ax es donde se va a ubicar la gráfica en matplotlib\n",
        "  y_uniques = pd.Series(y).unique()\n",
        "\n",
        "  for _ in y_uniques:\n",
        "    x[y==_].plot(\n",
        "        title=f'{len(y_uniques)}',\n",
        "        kind='scatter',\n",
        "        x='x1',\n",
        "        y='x2',\n",
        "        marker=f'${_}$',\n",
        "        ax=ax\n",
        "    )"
      ],
      "metadata": {
        "id": "bLi5gsL5SLm2"
      },
      "execution_count": 29,
      "outputs": []
    },
    {
      "cell_type": "code",
      "source": [
        "# Probamos la función de graficar plot_2d_cluster\n",
        "fig, ax = plt.subplots(1,1, figsize=(15,10))\n",
        "x, y = df_blobs[['x1', 'x2']], df_blobs['y']\n",
        "plot_2d_clusters(x,y,ax)"
      ],
      "metadata": {
        "colab": {
          "base_uri": "https://localhost:8080/",
          "height": 567
        },
        "id": "xMCBXQWaS223",
        "outputId": "76459704-d351-4b06-9ca1-d7018be188ac"
      },
      "execution_count": 30,
      "outputs": [
        {
          "output_type": "display_data",
          "data": {
            "text/plain": [
              "<Figure size 1500x1000 with 1 Axes>"
            ],
            "image/png": "[encoded data removed]"
          },
          "metadata": {}
        }
      ]
    },
    {
      "cell_type": "markdown",
      "source": [
        "## Aplicando clustering"
      ],
      "metadata": {
        "id": "-k8eBCwLUMMQ"
      }
    },
    {
      "cell_type": "code",
      "source": [
        "# Importamos librería KMeans\n",
        "from sklearn.cluster import KMeans"
      ],
      "metadata": {
        "id": "ia23-1rbT-R3"
      },
      "execution_count": 23,
      "outputs": []
    },
    {
      "cell_type": "code",
      "source": [
        "# definimos objeto con modelo KMeans, que tenga 4 clusters\n",
        "kmeans = KMeans(n_clusters=4, random_state=7)"
      ],
      "metadata": {
        "id": "lB44HnR6UUBA"
      },
      "execution_count": 26,
      "outputs": []
    },
    {
      "cell_type": "code",
      "source": [
        "# Entrenamos modelo creado (Kmeans)\n",
        "y_pred = kmeans.fit_predict(x)"
      ],
      "metadata": {
        "colab": {
          "base_uri": "https://localhost:8080/"
        },
        "id": "784RT5BuUl34",
        "outputId": "2777f659-70f7-4605-ff98-f7fe742e45b6"
      },
      "execution_count": 27,
      "outputs": [
        {
          "output_type": "stream",
          "name": "stderr",
          "text": [
            "/usr/local/lib/python3.10/dist-packages/sklearn/cluster/_kmeans.py:870: FutureWarning: The default value of `n_init` will change from 10 to 'auto' in 1.4. Set the value of `n_init` explicitly to suppress the warning\n",
            "  warnings.warn(\n"
          ]
        }
      ]
    },
    {
      "cell_type": "code",
      "source": [
        "y_pred"
      ],
      "metadata": {
        "colab": {
          "base_uri": "https://localhost:8080/"
        },
        "id": "a-v36G4XU5HJ",
        "outputId": "8597f36e-0bf3-40b7-af4e-1275febbd3f7"
      },
      "execution_count": 28,
      "outputs": [
        {
          "output_type": "execute_result",
          "data": {
            "text/plain": [
              "array([3, 2, 0, 3, 0, 3, 2, 1, 0, 2, 2, 1, 2, 0, 3, 2, 2, 1, 2, 0, 3, 0,\n",
              "       0, 2, 1, 0, 1, 1, 2, 3, 2, 2, 3, 2, 2, 0, 1, 0, 3, 0, 2, 3, 3, 1,\n",
              "       3, 1, 0, 0, 1, 0, 1, 2, 1, 2, 3, 0, 3, 2, 3, 3, 3, 2, 3, 1, 0, 1,\n",
              "       0, 1, 1, 3, 0, 1, 0, 0, 1, 1, 1, 1, 2, 3, 3, 3, 0, 2, 1, 2, 1, 0,\n",
              "       0, 3, 2, 3, 0, 2, 1, 1, 2, 3, 0, 3], dtype=int32)"
            ]
          },
          "metadata": {},
          "execution_count": 28
        }
      ]
    },
    {
      "cell_type": "code",
      "source": [
        "# Visualizamos nuestros datos\n",
        "fig, axs = plt.subplots(1,2, figsize=(20,12))\n",
        "plot_2d_clusters(x,y, axs[0])\n",
        "plot_2d_clusters(x,y_pred, axs[1])\n",
        "\n",
        "axs[0].set_title(f'Actual {axs[0].get_title()}')\n",
        "axs[1].set_title(f'KMeans {axs[1].get_title()}')"
      ],
      "metadata": {
        "colab": {
          "base_uri": "https://localhost:8080/",
          "height": 530
        },
        "id": "s7CyMADjU58Z",
        "outputId": "e0ef38ee-959d-40da-e60e-7f44684d3ec6"
      },
      "execution_count": 35,
      "outputs": [
        {
          "output_type": "execute_result",
          "data": {
            "text/plain": [
              "Text(0.5, 1.0, 'KMeans 4')"
            ]
          },
          "metadata": {},
          "execution_count": 35
        },
        {
          "output_type": "display_data",
          "data": {
            "text/plain": [
              "<Figure size 2000x1200 with 2 Axes>"
            ],
            "image/png": "[encoded data removed]"
          },
          "metadata": {}
        }
      ]
    },
    {
      "cell_type": "code",
      "source": [],
      "metadata": {
        "id": "io-U2Bu2Vx2K"
      },
      "execution_count": null,
      "outputs": []
    }
  ]
}